{
 "cells": [
  {
   "cell_type": "code",
   "execution_count": 1,
   "id": "6706eb6dde359f09",
   "metadata": {
    "jupyter": {
     "is_executing": true
    }
   },
   "outputs": [],
   "source": [
    "# Importing Required Libraries\n",
    "import pandas as pd\n",
    "import matplotlib.pyplot as plt\n",
    "import seaborn as sns\n",
    "import warnings\n",
    "import numpy as np\n",
    "import pickle\n",
    "from sklearn.model_selection import train_test_split, cross_val_score, GridSearchCV, KFold\n",
    "from sklearn.linear_model import LogisticRegression, Ridge\n",
    "from sklearn.metrics import (\n",
    "    mean_squared_error, accuracy_score,\n",
    "    ConfusionMatrixDisplay, precision_score, recall_score, f1_score, roc_auc_score\n",
    ")\n",
    "from sklearn.inspection import permutation_importance\n",
    "\n",
    "warnings.filterwarnings('ignore')"
   ]
  },
  {
   "cell_type": "code",
   "execution_count": 2,
   "id": "58b45f67f0df9179",
   "metadata": {},
   "outputs": [
    {
     "ename": "FileNotFoundError",
     "evalue": "[Errno 2] No such file or directory: './datasets/players.csv'",
     "output_type": "error",
     "traceback": [
      "\u001b[1;31m---------------------------------------------------------------------------\u001b[0m",
      "\u001b[1;31mFileNotFoundError\u001b[0m                         Traceback (most recent call last)",
      "Cell \u001b[1;32mIn[2], line 2\u001b[0m\n\u001b[0;32m      1\u001b[0m \u001b[38;5;66;03m# Load and Clean the Data\u001b[39;00m\n\u001b[1;32m----> 2\u001b[0m players_df \u001b[38;5;241m=\u001b[39m \u001b[43mpd\u001b[49m\u001b[38;5;241;43m.\u001b[39;49m\u001b[43mread_csv\u001b[49m\u001b[43m(\u001b[49m\u001b[38;5;124;43m'\u001b[39;49m\u001b[38;5;124;43m./datasets/players.csv\u001b[39;49m\u001b[38;5;124;43m'\u001b[39;49m\u001b[43m)\u001b[49m\n\u001b[0;32m      3\u001b[0m team_df \u001b[38;5;241m=\u001b[39m pd\u001b[38;5;241m.\u001b[39mread_csv(\u001b[38;5;124m'\u001b[39m\u001b[38;5;124m./datasets/team.csv\u001b[39m\u001b[38;5;124m'\u001b[39m)\n\u001b[0;32m      5\u001b[0m \u001b[38;5;66;03m# Automatically handle 'Unnamed' columns\u001b[39;00m\n",
      "File \u001b[1;32m~\\anaconda3\\envs\\GenAi\\lib\\site-packages\\pandas\\io\\parsers\\readers.py:1026\u001b[0m, in \u001b[0;36mread_csv\u001b[1;34m(filepath_or_buffer, sep, delimiter, header, names, index_col, usecols, dtype, engine, converters, true_values, false_values, skipinitialspace, skiprows, skipfooter, nrows, na_values, keep_default_na, na_filter, verbose, skip_blank_lines, parse_dates, infer_datetime_format, keep_date_col, date_parser, date_format, dayfirst, cache_dates, iterator, chunksize, compression, thousands, decimal, lineterminator, quotechar, quoting, doublequote, escapechar, comment, encoding, encoding_errors, dialect, on_bad_lines, delim_whitespace, low_memory, memory_map, float_precision, storage_options, dtype_backend)\u001b[0m\n\u001b[0;32m   1013\u001b[0m kwds_defaults \u001b[38;5;241m=\u001b[39m _refine_defaults_read(\n\u001b[0;32m   1014\u001b[0m     dialect,\n\u001b[0;32m   1015\u001b[0m     delimiter,\n\u001b[1;32m   (...)\u001b[0m\n\u001b[0;32m   1022\u001b[0m     dtype_backend\u001b[38;5;241m=\u001b[39mdtype_backend,\n\u001b[0;32m   1023\u001b[0m )\n\u001b[0;32m   1024\u001b[0m kwds\u001b[38;5;241m.\u001b[39mupdate(kwds_defaults)\n\u001b[1;32m-> 1026\u001b[0m \u001b[38;5;28;01mreturn\u001b[39;00m \u001b[43m_read\u001b[49m\u001b[43m(\u001b[49m\u001b[43mfilepath_or_buffer\u001b[49m\u001b[43m,\u001b[49m\u001b[43m \u001b[49m\u001b[43mkwds\u001b[49m\u001b[43m)\u001b[49m\n",
      "File \u001b[1;32m~\\anaconda3\\envs\\GenAi\\lib\\site-packages\\pandas\\io\\parsers\\readers.py:620\u001b[0m, in \u001b[0;36m_read\u001b[1;34m(filepath_or_buffer, kwds)\u001b[0m\n\u001b[0;32m    617\u001b[0m _validate_names(kwds\u001b[38;5;241m.\u001b[39mget(\u001b[38;5;124m\"\u001b[39m\u001b[38;5;124mnames\u001b[39m\u001b[38;5;124m\"\u001b[39m, \u001b[38;5;28;01mNone\u001b[39;00m))\n\u001b[0;32m    619\u001b[0m \u001b[38;5;66;03m# Create the parser.\u001b[39;00m\n\u001b[1;32m--> 620\u001b[0m parser \u001b[38;5;241m=\u001b[39m TextFileReader(filepath_or_buffer, \u001b[38;5;241m*\u001b[39m\u001b[38;5;241m*\u001b[39mkwds)\n\u001b[0;32m    622\u001b[0m \u001b[38;5;28;01mif\u001b[39;00m chunksize \u001b[38;5;129;01mor\u001b[39;00m iterator:\n\u001b[0;32m    623\u001b[0m     \u001b[38;5;28;01mreturn\u001b[39;00m parser\n",
      "File \u001b[1;32m~\\anaconda3\\envs\\GenAi\\lib\\site-packages\\pandas\\io\\parsers\\readers.py:1620\u001b[0m, in \u001b[0;36mTextFileReader.__init__\u001b[1;34m(self, f, engine, **kwds)\u001b[0m\n\u001b[0;32m   1617\u001b[0m     \u001b[38;5;28mself\u001b[39m\u001b[38;5;241m.\u001b[39moptions[\u001b[38;5;124m\"\u001b[39m\u001b[38;5;124mhas_index_names\u001b[39m\u001b[38;5;124m\"\u001b[39m] \u001b[38;5;241m=\u001b[39m kwds[\u001b[38;5;124m\"\u001b[39m\u001b[38;5;124mhas_index_names\u001b[39m\u001b[38;5;124m\"\u001b[39m]\n\u001b[0;32m   1619\u001b[0m \u001b[38;5;28mself\u001b[39m\u001b[38;5;241m.\u001b[39mhandles: IOHandles \u001b[38;5;241m|\u001b[39m \u001b[38;5;28;01mNone\u001b[39;00m \u001b[38;5;241m=\u001b[39m \u001b[38;5;28;01mNone\u001b[39;00m\n\u001b[1;32m-> 1620\u001b[0m \u001b[38;5;28mself\u001b[39m\u001b[38;5;241m.\u001b[39m_engine \u001b[38;5;241m=\u001b[39m \u001b[38;5;28;43mself\u001b[39;49m\u001b[38;5;241;43m.\u001b[39;49m\u001b[43m_make_engine\u001b[49m\u001b[43m(\u001b[49m\u001b[43mf\u001b[49m\u001b[43m,\u001b[49m\u001b[43m \u001b[49m\u001b[38;5;28;43mself\u001b[39;49m\u001b[38;5;241;43m.\u001b[39;49m\u001b[43mengine\u001b[49m\u001b[43m)\u001b[49m\n",
      "File \u001b[1;32m~\\anaconda3\\envs\\GenAi\\lib\\site-packages\\pandas\\io\\parsers\\readers.py:1880\u001b[0m, in \u001b[0;36mTextFileReader._make_engine\u001b[1;34m(self, f, engine)\u001b[0m\n\u001b[0;32m   1878\u001b[0m     \u001b[38;5;28;01mif\u001b[39;00m \u001b[38;5;124m\"\u001b[39m\u001b[38;5;124mb\u001b[39m\u001b[38;5;124m\"\u001b[39m \u001b[38;5;129;01mnot\u001b[39;00m \u001b[38;5;129;01min\u001b[39;00m mode:\n\u001b[0;32m   1879\u001b[0m         mode \u001b[38;5;241m+\u001b[39m\u001b[38;5;241m=\u001b[39m \u001b[38;5;124m\"\u001b[39m\u001b[38;5;124mb\u001b[39m\u001b[38;5;124m\"\u001b[39m\n\u001b[1;32m-> 1880\u001b[0m \u001b[38;5;28mself\u001b[39m\u001b[38;5;241m.\u001b[39mhandles \u001b[38;5;241m=\u001b[39m \u001b[43mget_handle\u001b[49m\u001b[43m(\u001b[49m\n\u001b[0;32m   1881\u001b[0m \u001b[43m    \u001b[49m\u001b[43mf\u001b[49m\u001b[43m,\u001b[49m\n\u001b[0;32m   1882\u001b[0m \u001b[43m    \u001b[49m\u001b[43mmode\u001b[49m\u001b[43m,\u001b[49m\n\u001b[0;32m   1883\u001b[0m \u001b[43m    \u001b[49m\u001b[43mencoding\u001b[49m\u001b[38;5;241;43m=\u001b[39;49m\u001b[38;5;28;43mself\u001b[39;49m\u001b[38;5;241;43m.\u001b[39;49m\u001b[43moptions\u001b[49m\u001b[38;5;241;43m.\u001b[39;49m\u001b[43mget\u001b[49m\u001b[43m(\u001b[49m\u001b[38;5;124;43m\"\u001b[39;49m\u001b[38;5;124;43mencoding\u001b[39;49m\u001b[38;5;124;43m\"\u001b[39;49m\u001b[43m,\u001b[49m\u001b[43m \u001b[49m\u001b[38;5;28;43;01mNone\u001b[39;49;00m\u001b[43m)\u001b[49m\u001b[43m,\u001b[49m\n\u001b[0;32m   1884\u001b[0m \u001b[43m    \u001b[49m\u001b[43mcompression\u001b[49m\u001b[38;5;241;43m=\u001b[39;49m\u001b[38;5;28;43mself\u001b[39;49m\u001b[38;5;241;43m.\u001b[39;49m\u001b[43moptions\u001b[49m\u001b[38;5;241;43m.\u001b[39;49m\u001b[43mget\u001b[49m\u001b[43m(\u001b[49m\u001b[38;5;124;43m\"\u001b[39;49m\u001b[38;5;124;43mcompression\u001b[39;49m\u001b[38;5;124;43m\"\u001b[39;49m\u001b[43m,\u001b[49m\u001b[43m \u001b[49m\u001b[38;5;28;43;01mNone\u001b[39;49;00m\u001b[43m)\u001b[49m\u001b[43m,\u001b[49m\n\u001b[0;32m   1885\u001b[0m \u001b[43m    \u001b[49m\u001b[43mmemory_map\u001b[49m\u001b[38;5;241;43m=\u001b[39;49m\u001b[38;5;28;43mself\u001b[39;49m\u001b[38;5;241;43m.\u001b[39;49m\u001b[43moptions\u001b[49m\u001b[38;5;241;43m.\u001b[39;49m\u001b[43mget\u001b[49m\u001b[43m(\u001b[49m\u001b[38;5;124;43m\"\u001b[39;49m\u001b[38;5;124;43mmemory_map\u001b[39;49m\u001b[38;5;124;43m\"\u001b[39;49m\u001b[43m,\u001b[49m\u001b[43m \u001b[49m\u001b[38;5;28;43;01mFalse\u001b[39;49;00m\u001b[43m)\u001b[49m\u001b[43m,\u001b[49m\n\u001b[0;32m   1886\u001b[0m \u001b[43m    \u001b[49m\u001b[43mis_text\u001b[49m\u001b[38;5;241;43m=\u001b[39;49m\u001b[43mis_text\u001b[49m\u001b[43m,\u001b[49m\n\u001b[0;32m   1887\u001b[0m \u001b[43m    \u001b[49m\u001b[43merrors\u001b[49m\u001b[38;5;241;43m=\u001b[39;49m\u001b[38;5;28;43mself\u001b[39;49m\u001b[38;5;241;43m.\u001b[39;49m\u001b[43moptions\u001b[49m\u001b[38;5;241;43m.\u001b[39;49m\u001b[43mget\u001b[49m\u001b[43m(\u001b[49m\u001b[38;5;124;43m\"\u001b[39;49m\u001b[38;5;124;43mencoding_errors\u001b[39;49m\u001b[38;5;124;43m\"\u001b[39;49m\u001b[43m,\u001b[49m\u001b[43m \u001b[49m\u001b[38;5;124;43m\"\u001b[39;49m\u001b[38;5;124;43mstrict\u001b[39;49m\u001b[38;5;124;43m\"\u001b[39;49m\u001b[43m)\u001b[49m\u001b[43m,\u001b[49m\n\u001b[0;32m   1888\u001b[0m \u001b[43m    \u001b[49m\u001b[43mstorage_options\u001b[49m\u001b[38;5;241;43m=\u001b[39;49m\u001b[38;5;28;43mself\u001b[39;49m\u001b[38;5;241;43m.\u001b[39;49m\u001b[43moptions\u001b[49m\u001b[38;5;241;43m.\u001b[39;49m\u001b[43mget\u001b[49m\u001b[43m(\u001b[49m\u001b[38;5;124;43m\"\u001b[39;49m\u001b[38;5;124;43mstorage_options\u001b[39;49m\u001b[38;5;124;43m\"\u001b[39;49m\u001b[43m,\u001b[49m\u001b[43m \u001b[49m\u001b[38;5;28;43;01mNone\u001b[39;49;00m\u001b[43m)\u001b[49m\u001b[43m,\u001b[49m\n\u001b[0;32m   1889\u001b[0m \u001b[43m\u001b[49m\u001b[43m)\u001b[49m\n\u001b[0;32m   1890\u001b[0m \u001b[38;5;28;01massert\u001b[39;00m \u001b[38;5;28mself\u001b[39m\u001b[38;5;241m.\u001b[39mhandles \u001b[38;5;129;01mis\u001b[39;00m \u001b[38;5;129;01mnot\u001b[39;00m \u001b[38;5;28;01mNone\u001b[39;00m\n\u001b[0;32m   1891\u001b[0m f \u001b[38;5;241m=\u001b[39m \u001b[38;5;28mself\u001b[39m\u001b[38;5;241m.\u001b[39mhandles\u001b[38;5;241m.\u001b[39mhandle\n",
      "File \u001b[1;32m~\\anaconda3\\envs\\GenAi\\lib\\site-packages\\pandas\\io\\common.py:873\u001b[0m, in \u001b[0;36mget_handle\u001b[1;34m(path_or_buf, mode, encoding, compression, memory_map, is_text, errors, storage_options)\u001b[0m\n\u001b[0;32m    868\u001b[0m \u001b[38;5;28;01melif\u001b[39;00m \u001b[38;5;28misinstance\u001b[39m(handle, \u001b[38;5;28mstr\u001b[39m):\n\u001b[0;32m    869\u001b[0m     \u001b[38;5;66;03m# Check whether the filename is to be opened in binary mode.\u001b[39;00m\n\u001b[0;32m    870\u001b[0m     \u001b[38;5;66;03m# Binary mode does not support 'encoding' and 'newline'.\u001b[39;00m\n\u001b[0;32m    871\u001b[0m     \u001b[38;5;28;01mif\u001b[39;00m ioargs\u001b[38;5;241m.\u001b[39mencoding \u001b[38;5;129;01mand\u001b[39;00m \u001b[38;5;124m\"\u001b[39m\u001b[38;5;124mb\u001b[39m\u001b[38;5;124m\"\u001b[39m \u001b[38;5;129;01mnot\u001b[39;00m \u001b[38;5;129;01min\u001b[39;00m ioargs\u001b[38;5;241m.\u001b[39mmode:\n\u001b[0;32m    872\u001b[0m         \u001b[38;5;66;03m# Encoding\u001b[39;00m\n\u001b[1;32m--> 873\u001b[0m         handle \u001b[38;5;241m=\u001b[39m \u001b[38;5;28;43mopen\u001b[39;49m\u001b[43m(\u001b[49m\n\u001b[0;32m    874\u001b[0m \u001b[43m            \u001b[49m\u001b[43mhandle\u001b[49m\u001b[43m,\u001b[49m\n\u001b[0;32m    875\u001b[0m \u001b[43m            \u001b[49m\u001b[43mioargs\u001b[49m\u001b[38;5;241;43m.\u001b[39;49m\u001b[43mmode\u001b[49m\u001b[43m,\u001b[49m\n\u001b[0;32m    876\u001b[0m \u001b[43m            \u001b[49m\u001b[43mencoding\u001b[49m\u001b[38;5;241;43m=\u001b[39;49m\u001b[43mioargs\u001b[49m\u001b[38;5;241;43m.\u001b[39;49m\u001b[43mencoding\u001b[49m\u001b[43m,\u001b[49m\n\u001b[0;32m    877\u001b[0m \u001b[43m            \u001b[49m\u001b[43merrors\u001b[49m\u001b[38;5;241;43m=\u001b[39;49m\u001b[43merrors\u001b[49m\u001b[43m,\u001b[49m\n\u001b[0;32m    878\u001b[0m \u001b[43m            \u001b[49m\u001b[43mnewline\u001b[49m\u001b[38;5;241;43m=\u001b[39;49m\u001b[38;5;124;43m\"\u001b[39;49m\u001b[38;5;124;43m\"\u001b[39;49m\u001b[43m,\u001b[49m\n\u001b[0;32m    879\u001b[0m \u001b[43m        \u001b[49m\u001b[43m)\u001b[49m\n\u001b[0;32m    880\u001b[0m     \u001b[38;5;28;01melse\u001b[39;00m:\n\u001b[0;32m    881\u001b[0m         \u001b[38;5;66;03m# Binary mode\u001b[39;00m\n\u001b[0;32m    882\u001b[0m         handle \u001b[38;5;241m=\u001b[39m \u001b[38;5;28mopen\u001b[39m(handle, ioargs\u001b[38;5;241m.\u001b[39mmode)\n",
      "\u001b[1;31mFileNotFoundError\u001b[0m: [Errno 2] No such file or directory: './datasets/players.csv'"
     ]
    }
   ],
   "source": [
    "# Load and Clean the Data\n",
    "players_df = pd.read_csv('players.csv')\n",
    "team_df = pd.read_csv('team.csv')\n",
    "\n",
    "# Automatically handle 'Unnamed' columns\n",
    "players_df.rename(columns=lambda x: x if not x.startswith('Unnamed') else f'Col_{x.split(\":\")[-1]}', inplace=True)\n",
    "team_df.rename(columns=lambda x: x if not x.startswith('Unnamed') else f'Col_{x.split(\":\")[-1]}', inplace=True)"
   ]
  },
  {
   "cell_type": "code",
   "execution_count": null,
   "id": "d564eab032106fd6",
   "metadata": {},
   "outputs": [],
   "source": [
    "# Remove columns with all missing values\n",
    "players_cleaned = players_df.dropna(axis=1, how='all')\n",
    "team_cleaned = team_df.dropna(axis=1, how='all')\n",
    "\n",
    "# Check and handle duplicates\n",
    "players_cleaned.drop_duplicates(inplace=True)\n",
    "team_cleaned.drop_duplicates(inplace=True)\n",
    "\n",
    "# Descriptive Statistics\n",
    "print(\"Players Dataset Statistics:\")\n",
    "print(players_cleaned.describe())\n",
    "\n",
    "print(\"\\nTeams Dataset Statistics:\")\n",
    "print(team_cleaned.describe())"
   ]
  },
  {
   "cell_type": "code",
   "execution_count": null,
   "id": "95748710b77d4a3b",
   "metadata": {},
   "outputs": [],
   "source": [
    "# Visualization: Points vs. Minutes Played (From players_cleaned)\n",
    "plt.figure(figsize=(10, 6))\n",
    "sns.scatterplot(data=players_cleaned, x='Min', y='PTS', hue='Team', palette='tab10')\n",
    "plt.title('Player Points vs. Minutes Played')\n",
    "plt.xlabel('Minutes Played')\n",
    "plt.ylabel('Points')\n",
    "plt.legend(bbox_to_anchor=(1.05, 1), loc='upper left')\n",
    "plt.show()"
   ]
  },
  {
   "cell_type": "code",
   "execution_count": null,
   "id": "7c8897f7ea166ad5",
   "metadata": {},
   "outputs": [],
   "source": [
    "# Add Efficiency and Player Efficiency Rating (PER)\n",
    "players_cleaned['Efficiency'] = players_cleaned['PTS'] / players_cleaned['Min']\n",
    "players_cleaned['Efficiency'] = players_cleaned['Efficiency'].fillna(0)\n",
    "\n",
    "# PER calculation \n",
    "players_cleaned['PER'] = (\n",
    "                                 players_cleaned['PTS'] + players_cleaned['REB'] +\n",
    "                                 players_cleaned['AST'] + players_cleaned['STL'] + players_cleaned['BLK']\n",
    "                         ) - players_cleaned['TOV']"
   ]
  },
  {
   "cell_type": "code",
   "execution_count": null,
   "id": "b569916f0eb3241b",
   "metadata": {},
   "outputs": [],
   "source": [
    "# Feature Engineering: Team-Level Efficiency and Performance Classification\n",
    "team_cleaned['Efficiency'] = (\n",
    "                                     team_cleaned['PTS'] + team_cleaned['REB'] + team_cleaned['AST'] +\n",
    "                                     team_cleaned['STL'] + team_cleaned['BLK'] - team_cleaned['TOV']\n",
    "                             ) / team_cleaned.shape[0]  \n",
    "\n",
    "# Classify teams based on their efficiency\n",
    "team_cleaned['Performance'] = pd.cut(\n",
    "    team_cleaned['Efficiency'],\n",
    "    bins=[-np.inf, 0.5, 1.0, np.inf],  \n",
    "    labels=['Bad', 'Average', 'Good']\n",
    ")"
   ]
  },
  {
   "cell_type": "code",
   "execution_count": null,
   "id": "82a32c7988a6c952",
   "metadata": {},
   "outputs": [],
   "source": [
    "# Visualization: Team Performance Categories (Violin Plot)\n",
    "plt.figure(figsize=(10, 6))\n",
    "sns.violinplot(data=team_cleaned, x='Performance', y='Efficiency', palette='muted')\n",
    "plt.title('Efficiency Distribution by Team Performance Category')\n",
    "plt.show()"
   ]
  },
  {
   "cell_type": "code",
   "execution_count": null,
   "id": "2b33965c879870c8",
   "metadata": {},
   "outputs": [],
   "source": [
    "# Model Training Data Preparation for Regression (from players_cleaned)\n",
    "X_reg = players_cleaned[['Min', 'REB', 'AST', 'STL', 'BLK', 'TOV']].fillna(0)\n",
    "y_reg = players_cleaned['Efficiency']\n",
    "\n",
    "X_class = X_reg\n",
    "y_class = players_cleaned['Performance']"
   ]
  },
  {
   "cell_type": "code",
   "execution_count": null,
   "id": "9fd3f8972749b5e9",
   "metadata": {},
   "outputs": [],
   "source": [
    "# Split data for regression and classification\n",
    "X_reg_train, X_reg_test, y_reg_train, y_reg_test = train_test_split(X_reg, y_reg, test_size=0.2, random_state=42)\n",
    "X_class_train, X_class_test, y_class_train, y_class_test = train_test_split(X_class, y_class, test_size=0.2,\n",
    "                                                                            random_state=42)\n",
    "# Regression: Ridge Model with Cross-Validation\n",
    "ridge = Ridge(alpha=1.0)\n",
    "ridge_cv = cross_val_score(ridge, X_reg, y_reg, cv=KFold(n_splits=5))\n",
    "ridge.fit(X_reg_train, y_reg_train)\n",
    "y_reg_pred = ridge.predict(X_reg_test)"
   ]
  },
  {
   "cell_type": "code",
   "execution_count": null,
   "id": "ebbfc1a5dd27f6b9",
   "metadata": {},
   "outputs": [],
   "source": [
    "# Permutation Feature Importance for Regression\n",
    "perm_importance_reg = permutation_importance(ridge, X_reg_test, y_reg_test, n_repeats=10, random_state=42)\n",
    "importance_df = pd.DataFrame({\n",
    "    'Feature': X_reg.columns,\n",
    "    'Importance': perm_importance_reg.importances_mean\n",
    "}).sort_values(by='Importance', ascending=False)"
   ]
  },
  {
   "cell_type": "code",
   "execution_count": null,
   "id": "36c3188731aca8ec",
   "metadata": {},
   "outputs": [],
   "source": [
    "# Plot feature importances\n",
    "plt.figure(figsize=(10, 6))\n",
    "sns.barplot(x='Importance', y='Feature', data=importance_df)\n",
    "plt.title('Feature Importance (Permutation) - Regression Model')\n",
    "plt.show()"
   ]
  },
  {
   "cell_type": "code",
   "execution_count": null,
   "id": "27d62acf606ac11",
   "metadata": {},
   "outputs": [],
   "source": [
    "# Determine Threshold and Drop Unimportant Features (Regression)\n",
    "importance_threshold = 0.01 "
   ]
  },
  {
   "cell_type": "code",
   "execution_count": null,
   "id": "6ede92c98714f82f",
   "metadata": {},
   "outputs": [],
   "source": [
    "# Filter regression features\n",
    "important_features_reg = importance_df[importance_df['Importance'] > importance_threshold]['Feature'].tolist()\n",
    "X_reg_filtered = X_reg[important_features_reg]\n",
    "\n",
    "# Re-split data with filtered features\n",
    "X_reg_train, X_reg_test, y_reg_train, y_reg_test = train_test_split(X_reg_filtered, y_reg, test_size=0.2,\n",
    "                                                                    random_state=42)\n",
    "\n",
    "# Regression Evaluation\n",
    "mse = mean_squared_error(y_reg_test, y_reg_pred)\n",
    "rmse = np.sqrt(mse)\n",
    "print(\"Regression Model Evaluation:\")\n",
    "print(f\"Cross-Validation Score: {ridge_cv.mean():.4f}\")\n",
    "print(f\"Root Mean Squared Error (RMSE): {rmse:.4f}\")\n",
    "\n",
    "# Save Ridge Model\n",
    "with open('ridge_model.pkl', 'wb') as file:\n",
    "    pickle.dump(ridge, file)"
   ]
  },
  {
   "cell_type": "code",
   "execution_count": null,
   "id": "7a036c78df0dc300",
   "metadata": {},
   "outputs": [],
   "source": [
    "# Classification: Logistic Regression with Hyperparameter Tuning\n",
    "param_grid = {'C': [0.1, 1, 10, 100], 'solver': ['lbfgs', 'liblinear']}\n",
    "grid = GridSearchCV(LogisticRegression(max_iter=1000), param_grid, cv=KFold(n_splits=5), scoring='accuracy')\n",
    "grid.fit(X_class_train, y_class_train)\n",
    "\n",
    "classifier = grid.best_estimator_\n",
    "y_class_pred = classifier.predict(X_class_test)\n",
    "y_class_proba = classifier.predict_proba(X_class_test)"
   ]
  },
  {
   "cell_type": "code",
   "execution_count": null,
   "id": "b65852a7137f7ab",
   "metadata": {},
   "outputs": [],
   "source": [
    "# Permutation Feature Importance for Classification\n",
    "perm_importance_class = permutation_importance(classifier, X_class_test, y_class_test, n_repeats=10, random_state=42)\n",
    "class_importance_df = pd.DataFrame({\n",
    "    'Feature': X_class.columns,\n",
    "    'Importance': perm_importance_class.importances_mean\n",
    "}).sort_values(by='Importance', ascending=False)\n",
    "\n",
    "# Plot feature importances\n",
    "plt.figure(figsize=(10, 6))\n",
    "sns.barplot(x='Importance', y='Feature', data=class_importance_df)\n",
    "plt.title('Feature Importance (Permutation) - Classification Model')\n",
    "plt.show()"
   ]
  },
  {
   "cell_type": "code",
   "execution_count": null,
   "id": "1fb7d0cd8de01465",
   "metadata": {},
   "outputs": [],
   "source": [
    "# Determine Threshold and Drop Unimportant Features (Classification)\n",
    "important_features_class = class_importance_df[class_importance_df['Importance'] > importance_threshold][\n",
    "    'Feature'].tolist()\n",
    "X_class_filtered = X_class[important_features_class]"
   ]
  },
  {
   "cell_type": "code",
   "execution_count": null,
   "id": "ddf407638f36e18f",
   "metadata": {},
   "outputs": [],
   "source": [
    "# Re-split data with filtered features\n",
    "X_class_train, X_class_test, y_class_train, y_class_test = train_test_split(X_class_filtered, y_class, test_size=0.2,\n",
    "                                                                            random_state=42)\n",
    "\n",
    "# For one-hot encoded arrays\n",
    "if len(y_class_test.shape) > 1:\n",
    "    y_class_test = np.argmax(y_class_test, axis=1)\n",
    "\n",
    "if len(y_class_pred.shape) > 1:\n",
    "    y_class_pred = np.argmax(y_class_pred, axis=1)"
   ]
  },
  {
   "cell_type": "code",
   "execution_count": null,
   "id": "dba671b81e7139d0",
   "metadata": {},
   "outputs": [],
   "source": [
    "# Classification Evaluation\n",
    "accuracy = accuracy_score(y_class_test, y_class_pred)\n",
    "precision = precision_score(y_class_test, y_class_pred, average='weighted')\n",
    "recall = recall_score(y_class_test, y_class_pred, average='weighted')\n",
    "f1 = f1_score(y_class_test, y_class_pred, average='weighted')"
   ]
  },
  {
   "cell_type": "code",
   "execution_count": null,
   "id": "c0518e623da94275",
   "metadata": {},
   "outputs": [],
   "source": [
    "roc_auc = roc_auc_score(y_class_test, y_class_proba, multi_class='ovr')\n",
    "# Print the evaluation metrics\n",
    "print(\"\\nClassification Model Evaluation:\")\n",
    "print(f\"Accuracy: {accuracy:.4f}\")\n",
    "print(f\"Precision: {precision:.4f}\")\n",
    "print(f\"Recall: {recall:.4f}\")\n",
    "print(f\"F1 Score: {f1:.4f}\")\n",
    "print(f\"ROC-AUC Score: {roc_auc:.4f}\")\n",
    "\n",
    "# Save Logistic Model\n",
    "with open('logistic_model.pkl', 'wb') as file:\n",
    "    pickle.dump(classifier, file)"
   ]
  },
  {
   "cell_type": "code",
   "execution_count": null,
   "id": "1615ef6b667f874",
   "metadata": {},
   "outputs": [],
   "source": [
    "# Visualization: Violin Plot for Performance Categories (from team_cleaned)\n",
    "plt.figure(figsize=(10, 6))\n",
    "sns.violinplot(data=team_cleaned, x='Performance', y='Efficiency', palette='muted')\n",
    "plt.title('Efficiency Distribution by Team Performance Category')\n",
    "plt.show()"
   ]
  }
 ],
 "metadata": {
  "kernelspec": {
   "display_name": "Python 3 (ipykernel)",
   "language": "python",
   "name": "python3"
  },
  "language_info": {
   "codemirror_mode": {
    "name": "ipython",
    "version": 3
   },
   "file_extension": ".py",
   "mimetype": "text/x-python",
   "name": "python",
   "nbconvert_exporter": "python",
   "pygments_lexer": "ipython3",
   "version": "3.9.20"
  }
 },
 "nbformat": 4,
 "nbformat_minor": 5
}
